{
 "cells": [
  {
   "cell_type": "markdown",
   "metadata": {},
   "source": [
    "## Import libraries"
   ]
  },
  {
   "cell_type": "code",
   "execution_count": 1,
   "metadata": {},
   "outputs": [],
   "source": [
    "import os\n",
    "import json\n",
    "import asyncio\n",
    "from typing import List, Union, Dict, Optional\n",
    "from openai import OpenAI, AsyncOpenAI"
   ]
  },
  {
   "cell_type": "markdown",
   "metadata": {},
   "source": [
    "## Pull translated datasets"
   ]
  },
  {
   "cell_type": "code",
   "execution_count": 2,
   "metadata": {},
   "outputs": [],
   "source": [
    "OUTPUT_DIR = \"../data/vietnamese\"\n",
    "os.makedirs(OUTPUT_DIR, exist_ok=True)"
   ]
  },
  {
   "cell_type": "code",
   "execution_count": 3,
   "metadata": {},
   "outputs": [],
   "source": [
    "def get_structured_output(response: Union[str, dict], key: Optional[str] = None) -> dict:\n",
    "    response = response if isinstance(response, dict) else json.loads(response)\n",
    "    res = json.loads(response[\"response\"][\"body\"][\"choices\"][0][\"message\"][\"content\"])\n",
    "    if key:\n",
    "        res = res.get(key, res)\n",
    "\n",
    "    return res\n",
    "\n",
    "\n",
    "async def pull_processed_batches(ids: List[str], client: AsyncOpenAI = AsyncOpenAI(), key: Optional[str] = None):\n",
    "    batch_response = await asyncio.gather(*[client.batches.retrieve(id) for id in ids])\n",
    "\n",
    "    failed_ids, success_ids, in_progress_ids = [], [], []\n",
    "    success_file_ids = []\n",
    "    for res in batch_response:\n",
    "        if res.status == \"failed\":\n",
    "            failed_ids.append(res.id)\n",
    "        elif res.status == \"in_progress\":\n",
    "            in_progress_ids.append(res.id)\n",
    "        elif res.status == \"completed\":\n",
    "            success_ids.append(res.id)\n",
    "            success_file_ids.append(res.output_file_id)\n",
    "\n",
    "    success_output = await asyncio.gather(*[client.files.content(id) for id in success_file_ids])\n",
    "    success_output = [get_structured_output(response.text, key=key) for response in success_output]\n",
    "\n",
    "    return {\n",
    "        \"failed\": failed_ids,\n",
    "        \"in_progress_ids\": in_progress_ids,\n",
    "        \"success_ids\": success_ids,\n",
    "        \"success_output\": success_output\n",
    "    }"
   ]
  },
  {
   "cell_type": "code",
   "execution_count": 4,
   "metadata": {},
   "outputs": [],
   "source": [
    "def update_json_file(file_path: str, new_data: Union[dict, List[dict]]):\n",
    "    \"\"\"\n",
    "    Updates a JSON file by appending new data to an existing array or creating a new array if it doesn't exist.\n",
    "\n",
    "    Args:\n",
    "        file_path: The path to the JSON file.\n",
    "        new_data: The new data to append. It can be a single object or a list of objects.\n",
    "    \"\"\"\n",
    "    try:\n",
    "        with open(file_path, \"r\", encoding=\"utf-8\") as f:\n",
    "            data = json.load(f)\n",
    "    except FileNotFoundError:\n",
    "        data = []\n",
    "\n",
    "    if isinstance(new_data, list):\n",
    "        data.extend(new_data)\n",
    "    else:\n",
    "        data.append(new_data)\n",
    "\n",
    "    with open(file_path, \"w\", encoding=\"utf-8\") as f:\n",
    "        json.dump(data, f, ensure_ascii=False, indent=4)\n"
   ]
  },
  {
   "cell_type": "code",
   "execution_count": 5,
   "metadata": {},
   "outputs": [],
   "source": [
    "batch_id_path = \"../data/batch_ids.json\"\n",
    "with open(batch_id_path, \"r\", encoding=\"utf-8\") as f:\n",
    "    batch_ids = json.load(f)\n",
    "\n",
    "\n",
    "failed = []\n",
    "in_progress = []\n",
    "updated_batch_ids = []\n",
    "for item in batch_ids:\n",
    "    dataset_name: str = item[\"dataset\"]\n",
    "    results = await pull_processed_batches(item[\"batch_ids\"])\n",
    "\n",
    "    # delete ids\n",
    "    updated_batch_ids.append({\n",
    "        \"dataset\": dataset_name,\n",
    "        \"batch_ids\": results[\"in_progress_ids\"]\n",
    "    })\n",
    "\n",
    "    # write output into file\n",
    "    ds_parent, ds_file = dataset_name.split(\"/\")\n",
    "    os.makedirs(os.path.join(OUTPUT_DIR, ds_parent), exist_ok=True)\n",
    "    update_json_file(os.path.join(OUTPUT_DIR, dataset_name), results[\"success_output\"])"
   ]
  }
 ],
 "metadata": {
  "kernelspec": {
   "display_name": ".venv",
   "language": "python",
   "name": "python3"
  },
  "language_info": {
   "codemirror_mode": {
    "name": "ipython",
    "version": 3
   },
   "file_extension": ".py",
   "mimetype": "text/x-python",
   "name": "python",
   "nbconvert_exporter": "python",
   "pygments_lexer": "ipython3",
   "version": "3.12.4"
  }
 },
 "nbformat": 4,
 "nbformat_minor": 2
}
