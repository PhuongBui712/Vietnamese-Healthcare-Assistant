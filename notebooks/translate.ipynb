{
 "cells": [
  {
   "cell_type": "markdown",
   "metadata": {},
   "source": [
    "## Libraries"
   ]
  },
  {
   "cell_type": "code",
   "execution_count": 1,
   "metadata": {},
   "outputs": [],
   "source": [
    "import os, sys\n",
    "\n",
    "sys.path.append(os.path.join(os.getcwd(), \"..\"))"
   ]
  },
  {
   "cell_type": "code",
   "execution_count": 2,
   "metadata": {},
   "outputs": [],
   "source": [
    "import json\n",
    "from concurrent.futures import ThreadPoolExecutor\n",
    "from typing import List, Union, Optional\n",
    "from tqdm import tqdm\n",
    "\n",
    "from src.llm import BaseLLM, GroqLLM\n",
    "from src.llm.utils import parse_llm_json_output\n",
    "from src.utils import update_env_variable"
   ]
  },
  {
   "cell_type": "markdown",
   "metadata": {},
   "source": [
    "## Translate"
   ]
  },
  {
   "cell_type": "code",
   "execution_count": 3,
   "metadata": {},
   "outputs": [],
   "source": [
    "SYSTEM_PROMPT = \"\"\"\\\n",
    "You are an AI language model acting as a Translator. Your task is to translate medical documents from English to Vietnamese. \\\n",
    "The goal of your translation is to be clear, concise, and easy to understand, while preserving the original meaning and tone.\n",
    "\n",
    "You will receive input in JSON format, where only the values need to be translated, and the keys should remain unchanged. \\\n",
    "The output must also be in JSON format, retaining the original structure.\n",
    "Example:\n",
    "- Input:\n",
    "```json\n",
    "[\n",
    "    {{  \n",
    "        \"patient_name\": \"John Doe\",  \n",
    "        \"diagnosis\": \"Type 2 Diabetes\",  \n",
    "        \"prescription\": \"Take 1 tablet of Metformin 500mg twice daily.\",  \n",
    "        \"notes\": \"Patient should follow a low-carb diet and monitor blood sugar levels regularly.\"  \n",
    "    }},\n",
    "    {{\n",
    "        <example 2>\n",
    "    }}\n",
    "]\n",
    "```\n",
    "- Output:\n",
    "```json\n",
    "[\n",
    "    {{  \n",
    "        \"patient_name\": \"John Doe\",  \n",
    "        \"diagnosis\": \"Bệnh tiểu đường loại 2\",  \n",
    "        \"prescription\": \"Uống 1 viên Metformin 500mg hai lần mỗi ngày.\",  \n",
    "        \"notes\": \"Bệnh nhân nên tuân theo chế độ ăn ít carbohydrate và theo dõi đường huyết thường xuyên.\"  \n",
    "    }},\n",
    "    {{\n",
    "        <translated example 2>\n",
    "    }}\n",
    "]\n",
    "```\n",
    "---\n",
    "Follow these step, translate these following input:\n",
    "\"\"\""
   ]
  },
  {
   "cell_type": "code",
   "execution_count": 4,
   "metadata": {},
   "outputs": [],
   "source": [
    "def translate(\n",
    "    llm: BaseLLM,\n",
    "    texts: Union[Union[str, dict], List[Union[str, dict]]],\n",
    "    system_prompt: Optional[str] = SYSTEM_PROMPT,\n",
    "    batch_size: int = 1,\n",
    "    max_workers: int = 3\n",
    ") -> List[Union[str, dict]]:\n",
    "    def wrapper(texts: List[Union[str, dict]]) -> str:\n",
    "        update_env_variable()\n",
    "        messages = [\n",
    "            {\"role\": \"system\", \"content\": system_prompt},\n",
    "        ]\n",
    "\n",
    "        return llm.invoke(\n",
    "            query=str(texts),\n",
    "            messages=messages\n",
    "        )\n",
    "    \n",
    "    if isinstance(texts, (str, dict)):\n",
    "        texts = [texts]\n",
    "\n",
    "    with ThreadPoolExecutor(max_workers=max_workers) as executor:\n",
    "        futures = [executor.submit(wrapper, texts[i:i + batch_size]) for i in range(0, len(texts), batch_size)]\n",
    "        success = []\n",
    "        failed = []\n",
    "        not_processed = []\n",
    "        for future in tqdm(futures, total=len(futures)):\n",
    "            try:\n",
    "                result = future.result()\n",
    "                try:\n",
    "                    success.extend(parse_llm_json_output(result, bracket_type=\"square\"))\n",
    "                except Exception as e:\n",
    "                    failed.append(result)\n",
    "            except Exception as e:\n",
    "                idx = futures.index(future) * batch_size\n",
    "                not_processed.extend(texts[idx:idx + batch_size])\n",
    "\n",
    "    return success, failed, not_processed"
   ]
  },
  {
   "cell_type": "code",
   "execution_count": 5,
   "metadata": {},
   "outputs": [],
   "source": [
    "with open(\"../data/translation_samples/input.json\", \"r\", encoding=\"utf-8\") as f:\n",
    "    texts = json.load(f)"
   ]
  },
  {
   "cell_type": "code",
   "execution_count": 6,
   "metadata": {},
   "outputs": [
    {
     "name": "stderr",
     "output_type": "stream",
     "text": [
      "100%|██████████| 4/4 [00:03<00:00,  1.05it/s]\n"
     ]
    }
   ],
   "source": [
    "success, failed, not_processed = translate(\n",
    "    llm=GroqLLM(model=\"llama-3.1-70b-versatile\"),\n",
    "    texts=texts\n",
    ")"
   ]
  },
  {
   "cell_type": "code",
   "execution_count": 7,
   "metadata": {},
   "outputs": [
    {
     "data": {
      "text/plain": [
       "[{'question': 'abetalipoproteimemia Xin chào, tôi muốn biết liệu có bất kỳ hỗ trợ nào cho những người mắc bệnh abetalipoproteinemia không? Tôi chưa được chẩn đoán nhưng đã thực hiện nhiều xét nghiệm cho thấy tôi đang mắc bệnh này, tôi muốn tìm hiểu cách chẩn đoán và quản lý bệnh, xin cảm ơn',\n",
       "  'answer_abs_summ': 'Abetalipoproteimemia, còn được gọi là hội chứng Bassen-Kornzweig, được chẩn đoán bằng xét nghiệm máu để kiểm tra Apolipoprotein B, thiếu hụt vitamin, biến dạng của các tế bào hồng cầu, xét nghiệm máu toàn diện và cholesterol. Các xét nghiệm khác bao gồm điện cơ đồ, kiểm tra mắt, tốc độ dẫn truyền thần kinh, phân tích mẫu phân và xét nghiệm di truyền để phát hiện đột biến trong gen MTP. Liều lượng lớn vitamin tan trong chất béo (vitamin A, vitamin D, vitamin E và vitamin K) được sử dụng để điều trị. Bổ sung axit linoleic cũng được khuyến nghị. Một chuyên gia dinh dưỡng có thể tư vấn về thay đổi chế độ ăn để ngăn ngừa các vấn đề về dạ dày. Bạn cần hạn chế lượng chất béo nạp vào xuống còn 5 đến 20 gram mỗi ngày và hạn chế thịt nạc, cá hoặc gia cầm xuống còn 5 ounces mỗi ngày (140 gram). Nhà cung cấp dịch vụ chăm sóc sức khỏe của bạn có thể khuyến nghị sử dụng triglyceride chuỗi trung bình.',\n",
       "  'answer_ext_summ': 'Các xét nghiệm có thể được thực hiện để giúp chẩn đoán tình trạng này bao gồm: - Xét nghiệm máu Apolipoprotein B - Xét nghiệm máu để kiểm tra thiếu hụt vitamin (vitamin tan trong chất béo A, D, E và K) - Biến dạng của các tế bào hồng cầu (acanthocytosis) - Xét nghiệm máu toàn diện (CBC) - Nghiên cứu cholesterol - Điện cơ đồ - Kiểm tra mắt - Tốc độ dẫn truyền thần kinh - Phân tích mẫu phân Xét nghiệm di truyền có thể có sẵn để phát hiện đột biến trong gen MTP. Điều trị liên quan đến việc sử dụng liều lượng lớn vitamin bổ sung chứa vitamin tan trong chất béo (vitamin A, vitamin D, vitamin E và vitamin K). Bổ sung axit linoleic cũng được khuyến nghị. Những người mắc bệnh này nên nói chuyện với một chuyên gia dinh dưỡng. Thay đổi chế độ ăn là cần thiết để ngăn ngừa các vấn đề về dạ dày. Điều này bao gồm: - Hạn chế lượng chất béo nạp vào xuống còn 5 đến 20 gram mỗi ngày. - Không ăn quá 5 ounces mỗi ngày (140 gram) thịt nạc, cá hoặc gia cầm. - Sử dụng sữa tách béo thay vì sữa nguyên kem. Bổ sung triglyceride chuỗi trung bình được sử dụng dưới sự giám sát của nhà cung cấp dịch vụ chăm sóc sức khỏe. Chúng nên được sử dụng một cách cẩn thận, vì chúng có thể gây tổn thương gan.'},\n",
       " {'question': 'Câu hỏi về hen suyễn. Sự đồng thuận của các bác sĩ y khoa về việc liệu hen suyễn có thể chữa khỏi không? Và bạn có bài viết thảo luận về việc liệu hen suyễn có thể chữa khỏi không?',\n",
       "  'answer_abs_summ': 'Các triệu chứng hen suyễn có thể được kiểm soát nhưng không thể chữa khỏi.',\n",
       "  'answer_ext_summ': 'Hen suyễn là một bệnh mãn tính. Điều này có nghĩa là nó có thể được điều trị nhưng không thể chữa khỏi. Tuy nhiên, một số người có thể kiểm soát hen suyễn đến mức các triệu chứng không xảy ra lại hoặc xảy ra hiếm khi.'},\n",
       " {'question': 'Tôi bị mù đêm bẩm sinh liên kết X, tôi đang gặp phải tình trạng tương tự hoặc giống như bệnh này. Ông nội của mẹ tôi cũng bị tình trạng tương tự và anh trai tôi cũng vậy. Chúng tôi gặp vấn đề khi nhìn trong điều kiện ánh sáng yếu, thực tế là không thể nhìn thấy trong điều kiện ẩm ướt ngay cả trong ban ngày. Tôi cũng bị cận thị nhưng không phải cận thị thông thường, tôi không thể nhìn rõ các vật nhỏ. Cuộc sống của tôi giống như bị giam cầm. Liệu có cơ hội nào để chúng tôi khỏi bệnh này không? Liệu chúng tôi có thể nhìn thấy như những người bình thường không? Xin hãy giúp đỡ tôi. Tôi 38 tuổi, anh trai tôi 44 tuổi.',\n",
       "  'answer_abs_summ': 'Mù đêm bẩm sinh liên kết tự phát là một rối loạn của võng mạc. Những người bị tình trạng này thường gặp khó khăn khi nhìn trong điều kiện ánh sáng yếu. Các triệu chứng xuất hiện từ khi sinh ra nhưng có xu hướng ổn định theo thời gian.',\n",
       "  'answer_ext_summ': 'Các vấn đề về thị lực liên quan đến tình trạng này là bẩm sinh, có nghĩa là chúng xuất hiện từ khi sinh ra. Chúng có xu hướng ổn định (bất biến) theo thời gian.'},\n",
       " {'question': 'Tôi bị mù đêm bẩm sinh liên kết X, tôi đang gặp phải tình trạng tương tự hoặc cùng bệnh. Ông nội của mẹ tôi cũng bị bệnh này và anh trai tôi cũng vậy. Chúng tôi gặp vấn đề khi nhìn trong điều kiện ánh sáng yếu, thực tế là không thể nhìn thấy trong điều kiện ẩm ướt vào ban ngày. Tôi cũng bị cận thị nhưng không phải cận thị thông thường, tôi không thể nhìn rõ các vật nhỏ. Cuộc sống của tôi giống như bị giam cầm. Liệu có cơ hội nào để chúng tôi khỏi bệnh này không? Liệu chúng tôi có thể nhìn thấy như những người bình thường không? Xin hãy giúp đỡ. Tôi 38 tuổi, anh trai tôi 44 tuổi.',\n",
       "  'answer_abs_summ': 'Mù đêm bẩm sinh liên kết tự phát là một rối loạn của võng mạc. Những người bị bệnh này thường gặp khó khăn khi nhìn trong điều kiện ánh sáng yếu. Các triệu chứng có mặt từ khi sinh ra nhưng có xu hướng ổn định theo thời gian.',\n",
       "  'answer_ext_summ': 'Các vấn đề về thị lực liên quan đến tình trạng này là bẩm sinh, có nghĩa là chúng có mặt từ khi sinh ra. Chúng có xu hướng ổn định (bất biến) theo thời gian.'}]"
      ]
     },
     "execution_count": 7,
     "metadata": {},
     "output_type": "execute_result"
    }
   ],
   "source": [
    "success"
   ]
  },
  {
   "cell_type": "code",
   "execution_count": 8,
   "metadata": {},
   "outputs": [],
   "source": [
    "with open(\"../data/translation_samples/output.json\", \"w\", encoding=\"utf-8\") as f:\n",
    "    json.dump(success, f, ensure_ascii=False, indent=4)"
   ]
  }
 ],
 "metadata": {
  "kernelspec": {
   "display_name": ".venv",
   "language": "python",
   "name": "python3"
  },
  "language_info": {
   "codemirror_mode": {
    "name": "ipython",
    "version": 3
   },
   "file_extension": ".py",
   "mimetype": "text/x-python",
   "name": "python",
   "nbconvert_exporter": "python",
   "pygments_lexer": "ipython3",
   "version": "3.12.4"
  }
 },
 "nbformat": 4,
 "nbformat_minor": 2
}
